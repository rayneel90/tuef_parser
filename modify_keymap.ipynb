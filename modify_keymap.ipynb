{
 "cells": [
  {
   "cell_type": "code",
   "execution_count": null,
   "metadata": {},
   "outputs": [],
   "source": [
    "import pandas as pd\n",
    "keymap = pd.read_excel('Data/Bureau one/Keyword mapping.xlsx', sheet_name=None, dtype=str)\n",
    "for key, val in keymap.items():\n",
    "    if key != \"Reason_code\":\n",
    "        keymap[key] = {i['Field_tag']: i['Name'] for i in\n",
    "                       val.to_dict(orient='record')}\n",
    "    else:\n",
    "        keymap[key] = {i.pop('Field_tag'):i for i in val.to_dict(orient='record')}"
   ]
  },
  {
   "cell_type": "code",
   "execution_count": 1,
   "metadata": {},
   "outputs": [],
   "source": [
    "import pandas as pd"
   ]
  },
  {
   "cell_type": "code",
   "execution_count": 2,
   "metadata": {},
   "outputs": [],
   "source": [
    "df = pd.read_excel('data/b1.xlsx')"
   ]
  },
  {
   "cell_type": "code",
   "execution_count": 4,
   "metadata": {},
   "outputs": [
    {
     "data": {
      "text/plain": [
       "'TUEF122888182                    0000BP03067777                    100309755056404102019190521PN03N010103HEM0205SINGH0305MAJHI07080101199308012ID03I010102030210AUU08085019001YID03I0201020602126122439390069001YPT03T01011099388132690302019001YPT03T0201109938813269030201EC03C010123HEMSINGHMAJHI@GMAIL.COMSC10CIBILTUSCR010201020210030804102019040500804250211260213PA03A010140PANDRIPANI MAULI BHATA  NEAR ELECTRIC PO0210LE NUAPADA0509KALAHANDI0602210706766105080202100823022018TL04T0010213NOT DISCLOSED040213050110808240220180908160820191108020920191205400001305313502854000000000XXX000000000000000000000000000000XXX000000XXX2903000300801092019310801032018IQ04I0010108230220180413NOT DISCLOSED050213060540000ES0700007210102**\\x13'"
      ]
     },
     "execution_count": 4,
     "metadata": {},
     "output_type": "execute_result"
    }
   ],
   "source": [
    "df.ResponseXML[0]"
   ]
  },
  {
   "cell_type": "code",
   "execution_count": 5,
   "metadata": {},
   "outputs": [],
   "source": [
    "txt = df.ResponseXML[0]\n",
    "bgn = txt.find(\"TUEF\")\n",
    "end = txt.find('0102**')+5+1\n",
    "length = int(txt[-18:].replace(\"ES07\", \"\")[:7])\n",
    "return {\n",
    "    'string': txt[bgn: end],\n",
    "    'valid': len(txt[bgn: end]) == length\n",
    "}"
   ]
  },
  {
   "cell_type": "code",
   "execution_count": 6,
   "metadata": {},
   "outputs": [
    {
     "data": {
      "text/plain": [
       "721"
      ]
     },
     "execution_count": 6,
     "metadata": {},
     "output_type": "execute_result"
    }
   ],
   "source": [
    "length"
   ]
  },
  {
   "cell_type": "code",
   "execution_count": 8,
   "metadata": {},
   "outputs": [
    {
     "data": {
      "text/plain": [
       "'TUEF122888182                    0000BP03067777                    100309755056404102019190521PN03N010103HEM0205SINGH0305MAJHI07080101199308012ID03I010102030210AUU08085019001YID03I0201020602126122439390069001YPT03T01011099388132690302019001YPT03T0201109938813269030201EC03C010123HEMSINGHMAJHI@GMAIL.COMSC10CIBILTUSCR010201020210030804102019040500804250211260213PA03A010140PANDRIPANI MAULI BHATA  NEAR ELECTRIC PO0210LE NUAPADA0509KALAHANDI0602210706766105080202100823022018TL04T0010213NOT DISCLOSED040213050110808240220180908160820191108020920191205400001305313502854000000000XXX000000000000000000000000000000XXX000000XXX2903000300801092019310801032018IQ04I0010108230220180413NOT DISCLOSED050213060540000ES0700007210102**'"
      ]
     },
     "execution_count": 8,
     "metadata": {},
     "output_type": "execute_result"
    }
   ],
   "source": [
    "txt[bgn: end]"
   ]
  },
  {
   "cell_type": "code",
   "execution_count": null,
   "metadata": {},
   "outputs": [],
   "source": []
  }
 ],
 "metadata": {
  "kernelspec": {
   "display_name": "Python 3",
   "language": "python",
   "name": "python3"
  },
  "language_info": {
   "codemirror_mode": {
    "name": "ipython",
    "version": 3
   },
   "file_extension": ".py",
   "mimetype": "text/x-python",
   "name": "python",
   "nbconvert_exporter": "python",
   "pygments_lexer": "ipython3",
   "version": "3.7.4"
  },
  "toc-autonumbering": true
 },
 "nbformat": 4,
 "nbformat_minor": 4
}
