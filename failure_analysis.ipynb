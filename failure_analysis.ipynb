{
 "cells": [
  {
   "cell_type": "code",
   "execution_count": 11,
   "metadata": {},
   "outputs": [],
   "source": [
    "from pymongo import MongoClient\n",
    "import pandas as pd\n",
    "import re\n",
    "from datetime import datetime"
   ]
  },
  {
   "cell_type": "code",
   "execution_count": 12,
   "metadata": {},
   "outputs": [
    {
     "data": {
      "text/plain": [
       "True"
      ]
     },
     "execution_count": 12,
     "metadata": {},
     "output_type": "execute_result"
    }
   ],
   "source": [
    "db = MongoClient('mongodb://10.10.225.142:27017')['cibil']\n",
    "db.authenticate('nilabja21607', 'pass@123')"
   ]
  },
  {
   "cell_type": "code",
   "execution_count": 18,
   "metadata": {},
   "outputs": [],
   "source": [
    "def multi_chunk_breaker(string: str, splitter: str, shift: int = 2) -> list:\n",
    "    \"\"\" Compute ... and return ...\n",
    "    :return:\n",
    "    :param string:\n",
    "    :param splitter:\n",
    "    :param shift:\n",
    "    :return:\n",
    "    \"\"\"\n",
    "    chunk = string.split(splitter)\n",
    "    chunk.pop(0)\n",
    "    return [str_breaker(indx[shift:]) for indx in chunk]\n",
    "\n",
    "\n",
    "def str_breaker(string):\n",
    "    \"\"\"\n",
    "    :param string:\n",
    "    :return:\n",
    "    \"\"\"\n",
    "    ret = {}\n",
    "    while string:\n",
    "        key = string[:2]\n",
    "        string = string[2:]\n",
    "        length = int(string[:2])\n",
    "        string = string[2:]\n",
    "        val = string[:length]\n",
    "        string = string[length:]\n",
    "        ret[key] = val\n",
    "    return ret\n"
   ]
  },
  {
   "cell_type": "code",
   "execution_count": 19,
   "metadata": {},
   "outputs": [],
   "source": [
    "tuef = db['failed'].find_one()"
   ]
  },
  {
   "cell_type": "code",
   "execution_count": 20,
   "metadata": {},
   "outputs": [
    {
     "data": {
      "text/plain": [
       "'TUEF122902680                    0000BP03067777                    100310707446111102019210457PN03N010122EKNATH DHONDIBA SHINDE08012SC10CIBILTUSCR0102010202100308111020190405000-1PA03A010127AT UNCHITHANE POST LADEGAON0222TAL KHATAV DIST SATARA0322TAL KHATAV DIST SATARA0515CITY:PUSESAWALI0706415512080204100830092005PA03A020127AT UNCHITHANE POST LADEGAON0222TAL KHATAV DIST SATARA0311DIST SATARA0515CITY:PUSESAWALI080204100830092004ES0700004490102**'"
      ]
     },
     "execution_count": 20,
     "metadata": {},
     "output_type": "execute_result"
    }
   ],
   "source": [
    "tuef['string']"
   ]
  },
  {
   "cell_type": "code",
   "execution_count": 21,
   "metadata": {},
   "outputs": [],
   "source": [
    "tuef = tuef['string'][:-17]"
   ]
  },
  {
   "cell_type": "code",
   "execution_count": 22,
   "metadata": {},
   "outputs": [],
   "source": [
    "keymap = db['keymap'].find_one()\n",
    "\n",
    "pattern = re.compile(\n",
    "    \"(PN03N01|ID03I01|PT03T01|EC03C01|EM03E01|SC10CIBILTUSCR|PA03A01|\"\n",
    "    \"TL04T001|IQ04I001|DR03D01)\"\n",
    ")  # Create the pattern to break the tuef string into segments\n"
   ]
  },
  {
   "cell_type": "code",
   "execution_count": 23,
   "metadata": {},
   "outputs": [
    {
     "ename": "KeyError",
     "evalue": "'state_code'",
     "output_type": "error",
     "traceback": [
      "\u001b[0;31m---------------------------------------------------------------------------\u001b[0m",
      "\u001b[0;31mKeyError\u001b[0m                                  Traceback (most recent call last)",
      "\u001b[0;32m/opt/anaconda3/lib/python3.7/site-packages/pandas/core/indexes/base.py\u001b[0m in \u001b[0;36mget_loc\u001b[0;34m(self, key, method, tolerance)\u001b[0m\n\u001b[1;32m   2896\u001b[0m             \u001b[0;32mtry\u001b[0m\u001b[0;34m:\u001b[0m\u001b[0;34m\u001b[0m\u001b[0;34m\u001b[0m\u001b[0m\n\u001b[0;32m-> 2897\u001b[0;31m                 \u001b[0;32mreturn\u001b[0m \u001b[0mself\u001b[0m\u001b[0;34m.\u001b[0m\u001b[0m_engine\u001b[0m\u001b[0;34m.\u001b[0m\u001b[0mget_loc\u001b[0m\u001b[0;34m(\u001b[0m\u001b[0mkey\u001b[0m\u001b[0;34m)\u001b[0m\u001b[0;34m\u001b[0m\u001b[0;34m\u001b[0m\u001b[0m\n\u001b[0m\u001b[1;32m   2898\u001b[0m             \u001b[0;32mexcept\u001b[0m \u001b[0mKeyError\u001b[0m\u001b[0;34m:\u001b[0m\u001b[0;34m\u001b[0m\u001b[0;34m\u001b[0m\u001b[0m\n",
      "\u001b[0;32mpandas/_libs/index.pyx\u001b[0m in \u001b[0;36mpandas._libs.index.IndexEngine.get_loc\u001b[0;34m()\u001b[0m\n",
      "\u001b[0;32mpandas/_libs/index.pyx\u001b[0m in \u001b[0;36mpandas._libs.index.IndexEngine.get_loc\u001b[0;34m()\u001b[0m\n",
      "\u001b[0;32mpandas/_libs/hashtable_class_helper.pxi\u001b[0m in \u001b[0;36mpandas._libs.hashtable.PyObjectHashTable.get_item\u001b[0;34m()\u001b[0m\n",
      "\u001b[0;32mpandas/_libs/hashtable_class_helper.pxi\u001b[0m in \u001b[0;36mpandas._libs.hashtable.PyObjectHashTable.get_item\u001b[0;34m()\u001b[0m\n",
      "\u001b[0;31mKeyError\u001b[0m: 'state_code'",
      "\nDuring handling of the above exception, another exception occurred:\n",
      "\u001b[0;31mKeyError\u001b[0m                                  Traceback (most recent call last)",
      "\u001b[0;32m<ipython-input-23-fe4efb831572>\u001b[0m in \u001b[0;36m<module>\u001b[0;34m\u001b[0m\n\u001b[1;32m    123\u001b[0m                                                format='%d%m%Y')\n\u001b[1;32m    124\u001b[0m     addr['state_code'] = [keymap['state_code'].get(i) for i in\n\u001b[0;32m--> 125\u001b[0;31m                           addr['state_code']]\n\u001b[0m\u001b[1;32m    126\u001b[0m     addr['address_category'] = [keymap['address_category'].get(i)\n\u001b[1;32m    127\u001b[0m                                 for i in addr['address_category']]\n",
      "\u001b[0;32m/opt/anaconda3/lib/python3.7/site-packages/pandas/core/frame.py\u001b[0m in \u001b[0;36m__getitem__\u001b[0;34m(self, key)\u001b[0m\n\u001b[1;32m   2978\u001b[0m             \u001b[0;32mif\u001b[0m \u001b[0mself\u001b[0m\u001b[0;34m.\u001b[0m\u001b[0mcolumns\u001b[0m\u001b[0;34m.\u001b[0m\u001b[0mnlevels\u001b[0m \u001b[0;34m>\u001b[0m \u001b[0;36m1\u001b[0m\u001b[0;34m:\u001b[0m\u001b[0;34m\u001b[0m\u001b[0;34m\u001b[0m\u001b[0m\n\u001b[1;32m   2979\u001b[0m                 \u001b[0;32mreturn\u001b[0m \u001b[0mself\u001b[0m\u001b[0;34m.\u001b[0m\u001b[0m_getitem_multilevel\u001b[0m\u001b[0;34m(\u001b[0m\u001b[0mkey\u001b[0m\u001b[0;34m)\u001b[0m\u001b[0;34m\u001b[0m\u001b[0;34m\u001b[0m\u001b[0m\n\u001b[0;32m-> 2980\u001b[0;31m             \u001b[0mindexer\u001b[0m \u001b[0;34m=\u001b[0m \u001b[0mself\u001b[0m\u001b[0;34m.\u001b[0m\u001b[0mcolumns\u001b[0m\u001b[0;34m.\u001b[0m\u001b[0mget_loc\u001b[0m\u001b[0;34m(\u001b[0m\u001b[0mkey\u001b[0m\u001b[0;34m)\u001b[0m\u001b[0;34m\u001b[0m\u001b[0;34m\u001b[0m\u001b[0m\n\u001b[0m\u001b[1;32m   2981\u001b[0m             \u001b[0;32mif\u001b[0m \u001b[0mis_integer\u001b[0m\u001b[0;34m(\u001b[0m\u001b[0mindexer\u001b[0m\u001b[0;34m)\u001b[0m\u001b[0;34m:\u001b[0m\u001b[0;34m\u001b[0m\u001b[0;34m\u001b[0m\u001b[0m\n\u001b[1;32m   2982\u001b[0m                 \u001b[0mindexer\u001b[0m \u001b[0;34m=\u001b[0m \u001b[0;34m[\u001b[0m\u001b[0mindexer\u001b[0m\u001b[0;34m]\u001b[0m\u001b[0;34m\u001b[0m\u001b[0;34m\u001b[0m\u001b[0m\n",
      "\u001b[0;32m/opt/anaconda3/lib/python3.7/site-packages/pandas/core/indexes/base.py\u001b[0m in \u001b[0;36mget_loc\u001b[0;34m(self, key, method, tolerance)\u001b[0m\n\u001b[1;32m   2897\u001b[0m                 \u001b[0;32mreturn\u001b[0m \u001b[0mself\u001b[0m\u001b[0;34m.\u001b[0m\u001b[0m_engine\u001b[0m\u001b[0;34m.\u001b[0m\u001b[0mget_loc\u001b[0m\u001b[0;34m(\u001b[0m\u001b[0mkey\u001b[0m\u001b[0;34m)\u001b[0m\u001b[0;34m\u001b[0m\u001b[0;34m\u001b[0m\u001b[0m\n\u001b[1;32m   2898\u001b[0m             \u001b[0;32mexcept\u001b[0m \u001b[0mKeyError\u001b[0m\u001b[0;34m:\u001b[0m\u001b[0;34m\u001b[0m\u001b[0;34m\u001b[0m\u001b[0m\n\u001b[0;32m-> 2899\u001b[0;31m                 \u001b[0;32mreturn\u001b[0m \u001b[0mself\u001b[0m\u001b[0;34m.\u001b[0m\u001b[0m_engine\u001b[0m\u001b[0;34m.\u001b[0m\u001b[0mget_loc\u001b[0m\u001b[0;34m(\u001b[0m\u001b[0mself\u001b[0m\u001b[0;34m.\u001b[0m\u001b[0m_maybe_cast_indexer\u001b[0m\u001b[0;34m(\u001b[0m\u001b[0mkey\u001b[0m\u001b[0;34m)\u001b[0m\u001b[0;34m)\u001b[0m\u001b[0;34m\u001b[0m\u001b[0;34m\u001b[0m\u001b[0m\n\u001b[0m\u001b[1;32m   2900\u001b[0m         \u001b[0mindexer\u001b[0m \u001b[0;34m=\u001b[0m \u001b[0mself\u001b[0m\u001b[0;34m.\u001b[0m\u001b[0mget_indexer\u001b[0m\u001b[0;34m(\u001b[0m\u001b[0;34m[\u001b[0m\u001b[0mkey\u001b[0m\u001b[0;34m]\u001b[0m\u001b[0;34m,\u001b[0m \u001b[0mmethod\u001b[0m\u001b[0;34m=\u001b[0m\u001b[0mmethod\u001b[0m\u001b[0;34m,\u001b[0m \u001b[0mtolerance\u001b[0m\u001b[0;34m=\u001b[0m\u001b[0mtolerance\u001b[0m\u001b[0;34m)\u001b[0m\u001b[0;34m\u001b[0m\u001b[0;34m\u001b[0m\u001b[0m\n\u001b[1;32m   2901\u001b[0m         \u001b[0;32mif\u001b[0m \u001b[0mindexer\u001b[0m\u001b[0;34m.\u001b[0m\u001b[0mndim\u001b[0m \u001b[0;34m>\u001b[0m \u001b[0;36m1\u001b[0m \u001b[0;32mor\u001b[0m \u001b[0mindexer\u001b[0m\u001b[0;34m.\u001b[0m\u001b[0msize\u001b[0m \u001b[0;34m>\u001b[0m \u001b[0;36m1\u001b[0m\u001b[0;34m:\u001b[0m\u001b[0;34m\u001b[0m\u001b[0;34m\u001b[0m\u001b[0m\n",
      "\u001b[0;32mpandas/_libs/index.pyx\u001b[0m in \u001b[0;36mpandas._libs.index.IndexEngine.get_loc\u001b[0;34m()\u001b[0m\n",
      "\u001b[0;32mpandas/_libs/index.pyx\u001b[0m in \u001b[0;36mpandas._libs.index.IndexEngine.get_loc\u001b[0;34m()\u001b[0m\n",
      "\u001b[0;32mpandas/_libs/hashtable_class_helper.pxi\u001b[0m in \u001b[0;36mpandas._libs.hashtable.PyObjectHashTable.get_item\u001b[0;34m()\u001b[0m\n",
      "\u001b[0;32mpandas/_libs/hashtable_class_helper.pxi\u001b[0m in \u001b[0;36mpandas._libs.hashtable.PyObjectHashTable.get_item\u001b[0;34m()\u001b[0m\n",
      "\u001b[0;31mKeyError\u001b[0m: 'state_code'"
     ]
    }
   ],
   "source": [
    "chunkdict = {}\n",
    "breaks = [m.start() for m in pattern.finditer(tuef)]\n",
    "breaks.insert(0, 0)\n",
    "breaks.append(len(tuef))\n",
    "\n",
    "for i in range(1, len(breaks)):\n",
    "    temp = tuef[breaks[i - 1]:breaks[i]]\n",
    "    chunkdict[temp[:2]] = temp\n",
    "\n",
    "header = {}\n",
    "header[\"seg_tag\"], tuef = tuef[:4], tuef[4:]\n",
    "header[\"version\"], tuef = tuef[:2], tuef[2:]\n",
    "header[\"mem_ref_no\"], tuef = tuef[:25].strip(), tuef[25:]\n",
    "header[\"blank\"], tuef = tuef[:6], tuef[6:]\n",
    "header[\"enq_mem_user_id\"], tuef = tuef[:30].strip(), tuef[30:]\n",
    "header[\"sub_ret_cd\"], tuef = tuef[:1], tuef[1:]\n",
    "header[\"enq_cntrl_no\"], tuef = tuef[:12], tuef[12:]\n",
    "header[\"datetime_processed\"] = datetime.strptime(\n",
    "    tuef[:14], '%d%m%Y%H%M%S')\n",
    "######################################################################\n",
    "#                                 PN decoding                        #\n",
    "######################################################################\n",
    "\n",
    "name_chunk = chunkdict.get('PN')\n",
    "if name_chunk:\n",
    "    name = str_breaker(name_chunk[7:])\n",
    "    name = {keymap['PN'][key]: val for key, val in name.items()}\n",
    "    if 'gender' in name:\n",
    "        name['gender'] = keymap['gender'][name['gender']]\n",
    "    if 'dob' in name:\n",
    "        name['dob'] = datetime.strptime(name['dob'], '%d%m%Y')\n",
    "    name = {key: val for key, val in name.items() if val is not None}\n",
    "    header.update(name)\n",
    "######################################################################\n",
    "#                                 ID decoding                        #\n",
    "######################################################################\n",
    "\n",
    "id_chunk = chunkdict.get('ID')\n",
    "if id_chunk:\n",
    "    ids = pd.DataFrame(multi_chunk_breaker(id_chunk, \"ID03I\"))\n",
    "    ids.columns = [keymap['ID'][key] for key in ids.columns]\n",
    "    if \"id_type\" in ids:\n",
    "        ids[\"id_type\"] = [keymap[\"id_type\"][i] for i in\n",
    "                          ids[\"id_type\"]]\n",
    "    if \"issue_date\" in ids:\n",
    "        ids[\"issue_date\"] = pd.to_datetime(ids[\"issue_date\"],\n",
    "                                           format='%d%m%Y')\n",
    "    if \"expiration_date\" in ids:\n",
    "        ids[\"expiration_date\"] = pd.to_datetime(\n",
    "            ids[\"expiration_date\"], format='%d%m%Y')\n",
    "    header['ids'] = ids.T.apply(lambda x: x.dropna().to_dict()).\\\n",
    "        tolist()\n",
    "######################################################################\n",
    "#                            PT decoding                             #\n",
    "######################################################################\n",
    "\n",
    "phone_chunk = chunkdict.get('PT')\n",
    "if phone_chunk:\n",
    "    tele = pd.DataFrame(multi_chunk_breaker(phone_chunk, \"PT03T\"))\n",
    "    tele.columns = [keymap['PT'][key] for key in tele.columns]\n",
    "    if \"telephone_type\" in tele:\n",
    "        tele[\"telephone_type\"] = [keymap[\"telephone_type\"][i] for i in\n",
    "                                  tele[\"telephone_type\"]]\n",
    "    header['phones'] = tele.T.apply(\n",
    "        lambda x: x.dropna().to_dict()).tolist()\n",
    "######################################################################\n",
    "#                                 EC decoding                        #\n",
    "######################################################################\n",
    "\n",
    "email_chunk = chunkdict.get('EC')\n",
    "if email_chunk:\n",
    "    email = pd.DataFrame(multi_chunk_breaker(email_chunk, \"EC03C\"))\n",
    "    email.columns = ['email']\n",
    "    header['emails'] = \\\n",
    "        email.email.str.lower().dropna().unique().tolist()\n",
    "\n",
    "######################################################################\n",
    "#                            EM decoding                             #\n",
    "######################################################################\n",
    "\n",
    "employ_chunk = chunkdict.get('EM')\n",
    "if employ_chunk:\n",
    "    employ = str_breaker(employ_chunk[7:])\n",
    "    employ = {keymap['EM'][key]: val for key, val in employ.items()}\n",
    "    employ['account_type'] = keymap['account_type'][\n",
    "        employ['account_type']]\n",
    "    employ['date_reported_and_certified'] = datetime.strptime(\n",
    "        employ['date_reported_and_certified'], '%d%m%Y')\n",
    "    employ['occupation_code'] = keymap['occupation_code'].get(\n",
    "        employ.get('occupation_code'))\n",
    "    employ['net_gross_income_indicator'] = \\\n",
    "        keymap['net_gross_income_indicator'].get(employ.get(\n",
    "            'net_gross_income_indicator'))\n",
    "    employ['monthly_annual_income_indicator'] = \\\n",
    "        keymap['monthly_annual_income_indicator'].get(\n",
    "            employ.get('monthly_annual_income_indicator'))\n",
    "    employ = {key: val for key, val in employ.items()\n",
    "              if val is not None}\n",
    "    header.update(employ)\n",
    "######################################################################\n",
    "#                       SC decoding                                  #\n",
    "######################################################################\n",
    "\n",
    "score_chunk = chunkdict.get(\"SC\")\n",
    "if score_chunk:\n",
    "    score = str_breaker(score_chunk[14:])\n",
    "    score = {keymap['SC'][key]: val for key, val in score.items()}\n",
    "    score['score_date'] = datetime.strptime(score['score_date'],\n",
    "                                            '%d%m%Y')\n",
    "    score = {key: val for key, val in score.items()\n",
    "             if val is not None}\n",
    "    header.update(score)\n",
    "######################################################################\n",
    "#                                 PA decoding                        #\n",
    "######################################################################\n",
    "\n",
    "addr_chunk = chunkdict.get(\"PA\")\n",
    "if addr_chunk:\n",
    "    addr = pd.DataFrame(multi_chunk_breaker(addr_chunk, \"PA03A\"))\n",
    "    addr.columns = [keymap['PA'][key] for key in addr.columns]\n",
    "    if 'date_reported' in addr:\n",
    "        addr['date_reported'] = pd.to_datetime(addr['date_reported'],\n",
    "                                               format='%d%m%Y')\n",
    "    addr['state_code'] = [keymap['state_code'].get(i) for i in\n",
    "                          addr['state_code']]\n",
    "    addr['address_category'] = [keymap['address_category'].get(i)\n",
    "                                for i in addr['address_category']]\n",
    "    header['addresses'] = addr.T.apply(\n",
    "        lambda x: x.dropna().to_dict()).tolist()\n",
    "\n",
    "######################################################################\n",
    "#                       TL decoding                                  #\n",
    "######################################################################\n",
    "\n",
    "acc_chunk = chunkdict.get('TL')\n",
    "if acc_chunk:\n",
    "    acc = multi_chunk_breaker(acc_chunk, \"TL04T\", 3)\n",
    "    summary = pd.DataFrame([i for i in acc if\n",
    "                            i['02'] == \"ACCTREVIEW_SUMM\"])\n",
    "    acc = pd.DataFrame([i for i in acc if i['02']\n",
    "                        != \"ACCTREVIEW_SUMM\"])\n",
    "    acc.columns = [keymap['TL'][key] for key in acc.columns]\n",
    "    summary.columns = [keymap['summary'][key] for\n",
    "                       key in summary.columns]\n",
    "    acc['account_type'] = [keymap['account_type'][i] for i in\n",
    "                           acc['account_type']]\n",
    "    acc['ownership_indicator'] = [keymap['ownership_indicator'][i] for\n",
    "                                  i in acc['ownership_indicator']]\n",
    "    datecols = list({'date_opened_disbursed', 'date_of_last_payment',\n",
    "                     'date_closed', 'date_reported_certified',\n",
    "                     'payment_history_start_date',\n",
    "                     'payment_history_end_date'}.intersection(\n",
    "        acc.columns))\n",
    "    acc[datecols] = acc[datecols].apply(pd.to_datetime,\n",
    "                                        format=\"%d%m%Y\")\n",
    "    if 'suit_filed_wilful_default' in acc:\n",
    "        acc['suit_filed_wilful_default'] = \\\n",
    "            [keymap['suit_filed_wilful_default'].get(i) for i in\n",
    "             acc['suit_filed_wilful_default']]\n",
    "    header['accounts'] = acc.T.apply(\n",
    "        lambda x: x.dropna().to_dict()).tolist()\n",
    "######################################################################\n",
    "#                                 IQ decoding                        #\n",
    "######################################################################\n",
    "enquiry_chunk = chunkdict.get('IQ')\n",
    "if enquiry_chunk:\n",
    "    enq = pd.DataFrame(multi_chunk_breaker(enquiry_chunk, \"IQ04I\", 3))\n",
    "    enq.columns = [keymap['IQ'][key] for key in enq.columns]\n",
    "    enq['date_of_enquiry'] = pd.to_datetime(enq['date_of_enquiry'],\n",
    "                                            format='%d%m%Y')\n",
    "    enq['enquiry_purpose'] = [keymap['account_type'][i] for i in\n",
    "                              enq['enquiry_purpose']]\n",
    "    header['enquiries'] = enq.T.apply(\n",
    "        lambda x: x.dropna().to_dict()).tolist()\n"
   ]
  },
  {
   "cell_type": "code",
   "execution_count": 27,
   "metadata": {},
   "outputs": [
    {
     "data": {
      "text/html": [
       "<div>\n",
       "<style scoped>\n",
       "    .dataframe tbody tr th:only-of-type {\n",
       "        vertical-align: middle;\n",
       "    }\n",
       "\n",
       "    .dataframe tbody tr th {\n",
       "        vertical-align: top;\n",
       "    }\n",
       "\n",
       "    .dataframe thead th {\n",
       "        text-align: right;\n",
       "    }\n",
       "</style>\n",
       "<table border=\"1\" class=\"dataframe\">\n",
       "  <thead>\n",
       "    <tr style=\"text-align: right;\">\n",
       "      <th></th>\n",
       "      <th>address_line1</th>\n",
       "      <th>address_line2</th>\n",
       "      <th>address_line3</th>\n",
       "      <th>address_line5</th>\n",
       "      <th>pin_code</th>\n",
       "      <th>address_category</th>\n",
       "      <th>date_reported</th>\n",
       "    </tr>\n",
       "  </thead>\n",
       "  <tbody>\n",
       "    <tr>\n",
       "      <td>0</td>\n",
       "      <td>AT UNCHITHANE POST LADEGAON</td>\n",
       "      <td>TAL KHATAV DIST SATARA</td>\n",
       "      <td>TAL KHATAV DIST SATARA</td>\n",
       "      <td>CITY:PUSESAWALI</td>\n",
       "      <td>415512</td>\n",
       "      <td>04</td>\n",
       "      <td>30092005</td>\n",
       "    </tr>\n",
       "    <tr>\n",
       "      <td>1</td>\n",
       "      <td>AT UNCHITHANE POST LADEGAON</td>\n",
       "      <td>TAL KHATAV DIST SATARA</td>\n",
       "      <td>DIST SATARA</td>\n",
       "      <td>CITY:PUSESAWALI</td>\n",
       "      <td>NaN</td>\n",
       "      <td>04</td>\n",
       "      <td>30092004</td>\n",
       "    </tr>\n",
       "  </tbody>\n",
       "</table>\n",
       "</div>"
      ],
      "text/plain": [
       "                 address_line1           address_line2  \\\n",
       "0  AT UNCHITHANE POST LADEGAON  TAL KHATAV DIST SATARA   \n",
       "1  AT UNCHITHANE POST LADEGAON  TAL KHATAV DIST SATARA   \n",
       "\n",
       "            address_line3    address_line5 pin_code address_category  \\\n",
       "0  TAL KHATAV DIST SATARA  CITY:PUSESAWALI   415512               04   \n",
       "1             DIST SATARA  CITY:PUSESAWALI      NaN               04   \n",
       "\n",
       "  date_reported  \n",
       "0      30092005  \n",
       "1      30092004  "
      ]
     },
     "execution_count": 27,
     "metadata": {},
     "output_type": "execute_result"
    }
   ],
   "source": [
    "addr_chunk = chunkdict.get(\"PA\")\n",
    "# if addr_chunk:\n",
    "addr = pd.DataFrame(multi_chunk_breaker(addr_chunk, \"PA03A\"))\n",
    "addr.columns = [keymap['PA'][key] for key in addr.columns]\n",
    "#     if 'date_reported' in addr:\n",
    "#         addr['date_reported'] = pd.to_datetime(addr['date_reported'],\n",
    "#                                                format='%d%m%Y')\n",
    "#     addr['state_code'] = [keymap['state_code'].get(i) for i in\n",
    "#                           addr['state_code']]\n",
    "#     addr['address_category'] = [keymap['address_category'].get(i)\n",
    "#                                 for i in addr['address_category']]\n",
    "#     header['addresses'] = addr.T.apply(\n",
    "#         lambda x: x.dropna().to_dict()).tolist()\n",
    "addr"
   ]
  },
  {
   "cell_type": "code",
   "execution_count": 14,
   "metadata": {},
   "outputs": [
    {
     "data": {
      "text/plain": [
       "'04102019110620PN03N010115THIPPESWAMY C B08012SC10CIBILTUSCR0102010202100308041020190405000-1PA03A010132KONDLAHALLI CHITRADURGA DISTRICT0602290706577521080204100830092004'"
      ]
     },
     "execution_count": 14,
     "metadata": {},
     "output_type": "execute_result"
    }
   ],
   "source": [
    "tuef"
   ]
  },
  {
   "cell_type": "code",
   "execution_count": 15,
   "metadata": {},
   "outputs": [
    {
     "data": {
      "text/plain": [
       "{'TU': 'TUEF122886032                    0000BP03067777                    100309654099704102019110620',\n",
       " 'PN': 'PN03N010115THIPPESWAMY C B08012',\n",
       " 'SC': 'SC10CIBILTUSCR0102010202100308041020190405000-1',\n",
       " 'PA': 'PA03A010132KONDLAHALLI CHITRADURGA DISTRICT0602290706577521080204100830092004'}"
      ]
     },
     "execution_count": 15,
     "metadata": {},
     "output_type": "execute_result"
    }
   ],
   "source": [
    "chunkdict"
   ]
  },
  {
   "cell_type": "code",
   "execution_count": 14,
   "metadata": {},
   "outputs": [],
   "source": [
    "db['raw_tuef'].drop()\n",
    "db['tuef'].drop()\n",
    "db['failed'].drop()"
   ]
  },
  {
   "cell_type": "code",
   "execution_count": 5,
   "metadata": {},
   "outputs": [],
   "source": [
    "keymap = pd.read_excel('data/keyword_mapper.xlsx', sheet_name=None, dtype=str)\n",
    "# for key, val in keymap.items():\n",
    "#     if key != \"reason_code\":\n",
    "#         keymap[key] = {i['Field_tag']: i['Name'] for i in\n",
    "#                        val.to_dict(orient='record')}"
   ]
  },
  {
   "cell_type": "code",
   "execution_count": 2,
   "metadata": {},
   "outputs": [],
   "source": [
    "import pandas as pd"
   ]
  },
  {
   "cell_type": "code",
   "execution_count": 9,
   "metadata": {},
   "outputs": [
    {
     "data": {
      "text/plain": [
       "{'01': {'Name': 'Auto Loan (Personal) ', 'loan_type': ' Secured '},\n",
       " '02': {'Name': 'Housing Loan ', 'loan_type': ' Secured '},\n",
       " '03': {'Name': 'Property Loan ', 'loan_type': ' Secured '},\n",
       " '04': {'Name': 'Loan Against Shares/Securities ', 'loan_type': ' Secured '},\n",
       " '05': {'Name': 'Personal Loan ', 'loan_type': ' Unsecured '},\n",
       " '06': {'Name': 'Consumer Loan ', 'loan_type': ' Unsecured '},\n",
       " '07': {'Name': 'Gold Loan ', 'loan_type': ' Secured '},\n",
       " '08': {'Name': 'Education Loan ', 'loan_type': ' Unsecured '},\n",
       " '09': {'Name': 'Loan to Professional ', 'loan_type': ' Unsecured '},\n",
       " '10': {'Name': 'Credit Card ', 'loan_type': ' Unsecured '},\n",
       " '11': {'Name': 'Leasing ', 'loan_type': ' Secured '},\n",
       " '12': {'Name': 'Overdraft ', 'loan_type': ' Unsecured '},\n",
       " '13': {'Name': 'Two-wheeler Loan ', 'loan_type': ' Secured '},\n",
       " '14': {'Name': 'Non-Funded Credit Facility ', 'loan_type': ' Secured '},\n",
       " '15': {'Name': 'Loan Against Bank Deposits ', 'loan_type': ' Secured '},\n",
       " '16': {'Name': 'Fleet Card ', 'loan_type': ' Unsecured '},\n",
       " '17': {'Name': 'Commercial Vehicle Loan ', 'loan_type': ' Secured '},\n",
       " '18': {'Name': 'Telco – Wireless ', 'loan_type': ' N/A '},\n",
       " '19': {'Name': 'Telco – Broadband ', 'loan_type': ' N/A '},\n",
       " '20': {'Name': 'Telco – Landline ', 'loan_type': ' N/A '},\n",
       " '31': {'Name': ' Secured Credit Card ', 'loan_type': ' Secured '},\n",
       " '32': {'Name': 'Used Car Loan ', 'loan_type': ' Secured '},\n",
       " '33': {'Name': 'Construction Equipment Loan ', 'loan_type': ' Secured '},\n",
       " '34': {'Name': 'Tractor Loan ', 'loan_type': ' Secured '},\n",
       " '35': {'Name': 'Corporate Credit Card ', 'loan_type': ' Unsecured '},\n",
       " '36': {'Name': 'Kisan Credit Card ', 'loan_type': ' Unsecured '},\n",
       " '37': {'Name': 'Loan on Credit Card ', 'loan_type': ' Unsecured '},\n",
       " '38': {'Name': 'Prime Minister Jaan Dhan Yojana – Overdraft ',\n",
       "  'loan_type': ' Unsecured '},\n",
       " '39': {'Name': 'Mudra Loans – Shishu / Kishor / Tarun ',\n",
       "  'loan_type': ' Unsecured '},\n",
       " '40': {'Name': 'Microfinance – Business Loan ', 'loan_type': ' Secured '},\n",
       " '41': {'Name': 'Microfinance – Personal Loan ', 'loan_type': ' Secured '},\n",
       " '42': {'Name': 'Microfinance – Housing Loan ', 'loan_type': ' Secured '},\n",
       " '43': {'Name': 'Microfinance – Others ', 'loan_type': ' Secured '},\n",
       " '44': {'Name': 'Pradhan Mantri Awas Yojana - Credit Link Subsidy Scheme MAY CLSS ',\n",
       "  'loan_type': ' Secured '},\n",
       " '45': {'Name': 'P2P Personal Loan ', 'loan_type': ' Unsecured '},\n",
       " '46': {'Name': 'P2P Auto Loan ', 'loan_type': ' Secured '},\n",
       " '47': {'Name': 'P2P Education Loan ', 'loan_type': ' Unsecured '},\n",
       " '50': {'Name': 'Business Loan – Secured ', 'loan_type': ' Secured '},\n",
       " '51': {'Name': 'Business Loan – General ', 'loan_type': ' Secured '},\n",
       " '52': {'Name': 'Business Loan – Priority Sector – Small Business ',\n",
       "  'loan_type': ' Secured '},\n",
       " '53': {'Name': 'Business Loan – Priority Sector – Agriculture ',\n",
       "  'loan_type': ' Secured '},\n",
       " '54': {'Name': 'Business Loan – Priority Sector – Others ',\n",
       "  'loan_type': ' Secured '},\n",
       " '55': {'Name': 'Business Non-Funded Credit Facility – General ',\n",
       "  'loan_type': ' Secured '},\n",
       " '56': {'Name': 'Business Non-Funded Credit Facility – Priority Sector – Small Business ',\n",
       "  'loan_type': ' Secured '},\n",
       " '57': {'Name': 'Business Non-Funded Credit Facility – Priority Sector – Agriculture ',\n",
       "  'loan_type': ' Secured '},\n",
       " '58': {'Name': 'Business Non-Funded Credit Facility – Priority Sector – Others ',\n",
       "  'loan_type': ' Secured '},\n",
       " '59': {'Name': 'Business Loan Against Bank Deposits ',\n",
       "  'loan_type': ' Secured '},\n",
       " '61': {'Name': 'Business Loan – Unsecured ', 'loan_type': ' Unsecured '},\n",
       " '00': {'Name': 'Other ', 'loan_type': ' Unsecured '}}"
      ]
     },
     "execution_count": 9,
     "metadata": {},
     "output_type": "execute_result"
    }
   ],
   "source": []
  },
  {
   "cell_type": "code",
   "execution_count": null,
   "metadata": {},
   "outputs": [],
   "source": []
  }
 ],
 "metadata": {
  "kernelspec": {
   "display_name": "Python 3",
   "language": "python",
   "name": "python3"
  },
  "language_info": {
   "codemirror_mode": {
    "name": "ipython",
    "version": 3
   },
   "file_extension": ".py",
   "mimetype": "text/x-python",
   "name": "python",
   "nbconvert_exporter": "python",
   "pygments_lexer": "ipython3",
   "version": "3.7.4"
  }
 },
 "nbformat": 4,
 "nbformat_minor": 4
}
